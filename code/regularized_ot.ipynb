{
 "cells": [
  {
   "cell_type": "code",
   "execution_count": 6,
   "id": "15e1e6b0",
   "metadata": {},
   "outputs": [],
   "source": [
    "from motion_utils import *\n",
    "from matplotlib import pyplot as plt"
   ]
  },
  {
   "cell_type": "code",
   "execution_count": 7,
   "id": "2a193793",
   "metadata": {},
   "outputs": [],
   "source": [
    "sys=particle_system((1000,1000))\n",
    "n=50\n",
    "sys.insert_particles(n,lambda x,y : brownian_update(x,y,1,[0,0]),lambda x,y : 1)\n",
    "\n",
    "dt=500\n",
    "beg_pos=sys.positions()\n",
    "beg_int=sys.intensities()\n",
    "\n",
    "sys.evolve(dt)\n",
    "\n",
    "end_pos=sys.positions()\n",
    "end_int=sys.intensities()"
   ]
  },
  {
   "cell_type": "code",
   "execution_count": 8,
   "id": "f3e55a86",
   "metadata": {},
   "outputs": [
    {
     "data": {
      "text/plain": [
       "[(587, 253),\n",
       " (620, 787),\n",
       " (665, 493),\n",
       " (880, 516),\n",
       " (858, 957),\n",
       " (409, 810),\n",
       " (53, 78),\n",
       " (776, 409),\n",
       " (613, 305),\n",
       " (869, 676),\n",
       " (17, 553),\n",
       " (966, 679),\n",
       " (200, 401),\n",
       " (75, 994),\n",
       " (704, 960),\n",
       " (409, 693),\n",
       " (31, 801),\n",
       " (879, 489),\n",
       " (561, 582),\n",
       " (272, 360),\n",
       " (280, 544),\n",
       " (398, 328),\n",
       " (91, 666),\n",
       " (297, 772),\n",
       " (881, 377),\n",
       " (32, 779),\n",
       " (243, 898),\n",
       " (875, 260),\n",
       " (21, 860),\n",
       " (191, 350),\n",
       " (664, 176),\n",
       " (151, 421),\n",
       " (330, 134),\n",
       " (46, 963),\n",
       " (146, 403),\n",
       " (750, 106),\n",
       " (637, 865),\n",
       " (409, 74),\n",
       " (182, 398),\n",
       " (215, 19),\n",
       " (160, 924),\n",
       " (451, 55),\n",
       " (667, 785),\n",
       " (976, 125),\n",
       " (575, 939),\n",
       " (811, 396),\n",
       " (869, 343),\n",
       " (371, 82),\n",
       " (159, 908),\n",
       " (530, 912)]"
      ]
     },
     "execution_count": 8,
     "metadata": {},
     "output_type": "execute_result"
    }
   ],
   "source": [
    "end_pos"
   ]
  },
  {
   "cell_type": "code",
   "execution_count": 24,
   "id": "5802e150",
   "metadata": {},
   "outputs": [],
   "source": [
    "a=np.array(beg_int).reshape((n,1))\n",
    "b=np.array(end_int).reshape((1,n))#try to make the shapes match with all of the linear algebra behind this\n",
    "\n",
    "def L2_cost(source,sink):\n",
    "    C=np.empty((len(source),len(sink)))\n",
    "    for i,pos1 in enumerate(source):\n",
    "        for j, pos2 in enumerate(sink):\n",
    "            C[i,j]=np.sqrt((pos1[0]-pos2[0])**2+(pos1[1]-pos2[1])**2)\n",
    "    return C"
   ]
  },
  {
   "cell_type": "code",
   "execution_count": 25,
   "id": "0fc72f9d",
   "metadata": {},
   "outputs": [],
   "source": [
    "C = L2_cost(beg_pos,end_pos)\n",
    "epsilon=0.1"
   ]
  },
  {
   "cell_type": "code",
   "execution_count": 26,
   "id": "8f884921",
   "metadata": {},
   "outputs": [],
   "source": [
    "#all of the cell taken from https://nbviewer.jupyter.org/github/gpeyre/numerical-tours/blob/master/python/optimaltransp_6_entropic_adv.ipynb\n",
    "#look there for explanation\n",
    "def mina_u(H,epsilon): return -epsilon*np.log( np.sum(a * np.exp(-H/epsilon),0) )\n",
    "def minb_u(H,epsilon): return -epsilon*np.log( np.sum(b * np.exp(-H/epsilon),1) )\n",
    "\n",
    "\n",
    "def mina(H,epsilon): return mina_u(H-np.min(H,0),epsilon) + np.min(H,0);\n",
    "def minb(H,epsilon): return minb_u(H-np.min(H,1)[:,None],epsilon) + np.min(H,1);\n",
    "\n",
    "def Sinkhorn(C,epsilon,f,niter = 500):    \n",
    "    Err = np.zeros(niter)\n",
    "    for it in range(niter):\n",
    "        g = mina(C-f[:,None],epsilon)\n",
    "        f = minb(C-g[None,:],epsilon)\n",
    "        # generate the coupling\n",
    "        P = a * np.exp((f[:,None]+g[None,:]-C)/epsilon) * b\n",
    "        # check conservation of mass\n",
    "        Err[it] = np.linalg.norm(np.sum(P,0)-b,1)\n",
    "    return (P,Err)"
   ]
  },
  {
   "cell_type": "code",
   "execution_count": 27,
   "id": "cd435ba8",
   "metadata": {},
   "outputs": [],
   "source": [
    "P,Err=Sinkhorn(C,epsilon,np.zeros(n),3000)"
   ]
  },
  {
   "cell_type": "code",
   "execution_count": 28,
   "id": "a1d83571",
   "metadata": {},
   "outputs": [
    {
     "data": {
      "image/png": "[encoded data removed]",
      "text/plain": [
       "<Figure size 432x288 with 1 Axes>"
      ]
     },
     "metadata": {
      "needs_background": "light"
     },
     "output_type": "display_data"
    }
   ],
   "source": [
    "plt.plot(Err);"
   ]
  },
  {
   "cell_type": "code",
   "execution_count": 29,
   "id": "2bbba342",
   "metadata": {},
   "outputs": [
    {
     "data": {
      "text/plain": [
       "array([[9.99660086e-01, 0.00000000e+00, 0.00000000e+00, ...,\n",
       "        0.00000000e+00, 0.00000000e+00, 0.00000000e+00],\n",
       "       [0.00000000e+00, 9.99833333e-01, 0.00000000e+00, ...,\n",
       "        0.00000000e+00, 0.00000000e+00, 0.00000000e+00],\n",
       "       [0.00000000e+00, 0.00000000e+00, 1.00000000e+00, ...,\n",
       "        0.00000000e+00, 0.00000000e+00, 0.00000000e+00],\n",
       "       ...,\n",
       "       [0.00000000e+00, 0.00000000e+00, 0.00000000e+00, ...,\n",
       "        5.68139851e-62, 0.00000000e+00, 0.00000000e+00],\n",
       "       [0.00000000e+00, 0.00000000e+00, 0.00000000e+00, ...,\n",
       "        0.00000000e+00, 1.00000000e+00, 0.00000000e+00],\n",
       "       [0.00000000e+00, 0.00000000e+00, 0.00000000e+00, ...,\n",
       "        0.00000000e+00, 0.00000000e+00, 1.00000000e+00]])"
      ]
     },
     "execution_count": 29,
     "metadata": {},
     "output_type": "execute_result"
    }
   ],
   "source": [
    "P"
   ]
  },
  {
   "cell_type": "code",
   "execution_count": 30,
   "id": "d8a4916f",
   "metadata": {},
   "outputs": [
    {
     "data": {
      "text/plain": [
       "<matplotlib.image.AxesImage at 0x7f04ccf2bf70>"
      ]
     },
     "execution_count": 30,
     "metadata": {},
     "output_type": "execute_result"
    },
    {
     "data": {
      "image/png": "[encoded data removed]",
      "text/plain": [
       "<Figure size 432x288 with 1 Axes>"
      ]
     },
     "metadata": {
      "needs_background": "light"
     },
     "output_type": "display_data"
    }
   ],
   "source": [
    "plt.imshow(P,interpolation='nearest')"
   ]
  },
  {
   "cell_type": "code",
   "execution_count": 16,
   "id": "bc4dd725",
   "metadata": {},
   "outputs": [
    {
     "data": {
      "image/png": "[encoded data removed]",
      "text/plain": [
       "<Figure size 432x288 with 1 Axes>"
      ]
     },
     "metadata": {
      "needs_background": "light"
     },
     "output_type": "display_data"
    }
   ],
   "source": [
    "beg_x,beg_y= zip(*beg_pos)\n",
    "end_x,end_y= zip(*end_pos)\n",
    "\n",
    "fig,ax=plt.subplots()\n",
    "\n",
    "ax.set_xlim([0,sys.grid[0]])\n",
    "ax.set_ylim([0,sys.grid[1]])\n",
    "ax.scatter(beg_x,beg_y,color='blue',s=20)\n",
    "ax.scatter(end_x,end_y,color='red',s=20)\n",
    "for i,pos in enumerate(beg_pos):\n",
    "    ax.annotate(i,(pos[0],pos[1]),size=15)\n",
    "for i,pos in enumerate(end_pos):\n",
    "    ax.annotate(i,(pos[0],pos[1]),size=15)"
   ]
  },
  {
   "cell_type": "markdown",
   "id": "313a82b0",
   "metadata": {},
   "source": [
    "Seems to work about as well as the non-regularized version"
   ]
  },
  {
   "cell_type": "markdown",
   "id": "99a2da2a",
   "metadata": {},
   "source": [
    "There is also a regularization that should return more sparse solutions. That combined with looking at intensities could be better for overlapping particles"
   ]
  },
  {
   "cell_type": "markdown",
   "id": "7bfa9a89",
   "metadata": {},
   "source": [
    "https://arxiv.org/pdf/1903.01112.pdf describes efficient algorithms for computing it. For now let's use a generic solver and if it proves useful, then one can worry about speed"
   ]
  },
  {
   "cell_type": "code",
   "execution_count": 60,
   "id": "1f73ab70",
   "metadata": {},
   "outputs": [],
   "source": [
    "import cvxpy as cp"
   ]
  },
  {
   "cell_type": "code",
   "execution_count": 61,
   "id": "fd0abb51",
   "metadata": {},
   "outputs": [],
   "source": [
    "P=cp.Variable((n,n))\n",
    "u = np.ones((n,1))\n",
    "v = np.ones((n,1))\n",
    "U = [0 <= P, cp.matmul(P,u)==a, cp.matmul(P.T,v)==b]"
   ]
  },
  {
   "cell_type": "code",
   "execution_count": 77,
   "id": "0413d289",
   "metadata": {},
   "outputs": [],
   "source": [
    "gamma = 10\n",
    "objective = cp.Minimize( cp.sum(cp.multiply(P,C)) + gamma/2 * cp.sum(cp.square(P)))\n",
    "prob = cp.Problem(objective, U)\n",
    "result = prob.solve()"
   ]
  },
  {
   "cell_type": "code",
   "execution_count": 78,
   "id": "e04718d5",
   "metadata": {},
   "outputs": [
    {
     "data": {
      "text/plain": [
       "array([[ 1.00078084e+00, -1.53643127e-05, -1.59932128e-05, ...,\n",
       "        -1.61283607e-05, -1.63124634e-05, -1.58347028e-05],\n",
       "       [-1.53643127e-05,  1.00079377e+00, -1.62627366e-05, ...,\n",
       "        -1.63978846e-05, -1.65819873e-05, -1.61042267e-05],\n",
       "       [-1.59932128e-05, -1.62627366e-05,  1.00082396e+00, ...,\n",
       "        -1.70267847e-05, -1.72108874e-05, -1.67331268e-05],\n",
       "       ...,\n",
       "       [-1.61283607e-05, -1.63978846e-05, -1.70267847e-05, ...,\n",
       "         1.00083045e+00, -1.73460353e-05, -1.68682747e-05],\n",
       "       [-1.58347028e-05, -1.61042267e-05, -1.67331268e-05, ...,\n",
       "        -1.68682747e-05, -1.70523774e-05,  1.00081635e+00],\n",
       "       [-1.63124634e-05, -1.65819873e-05, -1.72108874e-05, ...,\n",
       "        -1.73460353e-05,  1.00083929e+00, -1.70523774e-05]])"
      ]
     },
     "execution_count": 78,
     "metadata": {},
     "output_type": "execute_result"
    }
   ],
   "source": [
    "P.value"
   ]
  },
  {
   "cell_type": "code",
   "execution_count": 79,
   "id": "b48722e7",
   "metadata": {},
   "outputs": [
    {
     "data": {
      "text/plain": [
       "<matplotlib.image.AxesImage at 0x7f726db1da60>"
      ]
     },
     "execution_count": 79,
     "metadata": {},
     "output_type": "execute_result"
    },
    {
     "data": {
      "image/png": "[encoded data removed]",
      "text/plain": [
       "<Figure size 432x288 with 1 Axes>"
      ]
     },
     "metadata": {
      "needs_background": "light"
     },
     "output_type": "display_data"
    }
   ],
   "source": [
    "plt.imshow(P.value,interpolation='nearest')"
   ]
  },
  {
   "cell_type": "markdown",
   "id": "448518bd",
   "metadata": {},
   "source": [
    "Actually the solutions seem to be less sparse than those coming from Sinkhorn. I don't see how this form of regularization would make the solutions more sparse. Also, every single method tested so far is extremely fast for the number of particles that we are considering so maybe we can just use normal linear programming"
   ]
  },
  {
   "cell_type": "code",
   "execution_count": null,
   "id": "9bcc6736",
   "metadata": {},
   "outputs": [],
   "source": []
  }
 ],
 "metadata": {
  "kernelspec": {
   "display_name": "Python 3",
   "language": "python",
   "name": "python3"
  },
  "language_info": {
   "codemirror_mode": {
    "name": "ipython",
    "version": 3
   },
   "file_extension": ".py",
   "mimetype": "text/x-python",
   "name": "python",
   "nbconvert_exporter": "python",
   "pygments_lexer": "ipython3",
   "version": "3.8.8"
  }
 },
 "nbformat": 4,
 "nbformat_minor": 5
}
