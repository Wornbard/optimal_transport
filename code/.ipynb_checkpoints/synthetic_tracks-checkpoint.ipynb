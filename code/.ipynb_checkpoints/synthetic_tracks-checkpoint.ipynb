{
 "cells": [
  {
   "cell_type": "markdown",
   "id": "57adc413",
   "metadata": {},
   "source": [
    "Genarate tracks for the algoithm that will then look for optimal paramters in btrack\n"
   ]
  },
  {
   "cell_type": "code",
   "execution_count": 53,
   "id": "37b7cda4",
   "metadata": {},
   "outputs": [],
   "source": [
    "from matplotlib import pyplot as plt\n",
    "import numpy as np\n",
    "from motion_utils import *\n",
    "import pandas as pd"
   ]
  },
  {
   "cell_type": "code",
   "execution_count": 54,
   "id": "f7fc41ee",
   "metadata": {},
   "outputs": [],
   "source": [
    "n_sys=20#number of systems to simulate\n",
    "\n",
    "t_range=20#duration\n",
    "n_range=[5,10]\n",
    "grid=[10,10]#try to make all numbers in the model to have comparable orders\n",
    "mean_int=10\n",
    "var=4\n",
    "D=0.1#diffusion coeff\n",
    "dt=1\n",
    "\n",
    "\n",
    "update_pos = lambda x,y : brownian_update(x,y,D)\n",
    "update_int = lambda x,y : placeholder_intensity_update(x,y,mean_int,variance=var,threshold=0.2*mean_int)#now nothing disappears\n",
    "\n",
    "def create_part(sys,dt):\n",
    "    n=len(sys.particles)\n",
    "    if(n>=n_range[1]):\n",
    "        return\n",
    "    else:\n",
    "        increment=np.random.randint(0,n_range[1]/2)\n",
    "        sys.insert_particles(increment,update_pos,update_int, intensity=np.random.normal(mean_int,var,increment))\n",
    "        return\n",
    "        \n",
    "    return"
   ]
  },
  {
   "cell_type": "code",
   "execution_count": 55,
   "id": "ccff8ddb",
   "metadata": {},
   "outputs": [],
   "source": [
    "#df=pd.DataFrame(columns=['run_num','t','x','y','intensity','id'])#we will not use the ID in training\n",
    "df_list=[]\n",
    "for run in range(n_sys):\n",
    "    n_start=np.random.randint(n_range[0],n_range[1]+1)\n",
    "    sys=particle_system(grid,create_part)\n",
    "    sys.insert_particles(n_start,update_pos,update_int,intensity=np.random.normal(mean_int,var,n_start))\n",
    "    for t in range(t_range):\n",
    "        for part in sys.particles:\n",
    "            d={'run_num':run,'t':t,'x':part.pos[0],'y':part.pos[1],'intensity':part.intensity,'id':part.id}\n",
    "            #tmp_df=pd.DataFrame(data=d)\n",
    "            #df=pd.concat([df,tmp_df])\n",
    "            df_list.append(d)\n",
    "        sys.evolve(dt)\n",
    "df=pd.DataFrame(df_list)"
   ]
  },
  {
   "cell_type": "code",
   "execution_count": 56,
   "id": "cdd9c80b",
   "metadata": {},
   "outputs": [
    {
     "data": {
      "text/plain": [
       "array([0, 1, 2, 3, 4, 5, 6, 7, 8, 9])"
      ]
     },
     "execution_count": 56,
     "metadata": {},
     "output_type": "execute_result"
    }
   ],
   "source": [
    "df['id'].unique()"
   ]
  },
  {
   "cell_type": "code",
   "execution_count": 57,
   "id": "a68261be",
   "metadata": {},
   "outputs": [],
   "source": [
    "df.to_csv('simulated_runs.csv',index='False')"
   ]
  },
  {
   "cell_type": "code",
   "execution_count": null,
   "id": "550836e4",
   "metadata": {},
   "outputs": [],
   "source": []
  }
 ],
 "metadata": {
  "kernelspec": {
   "display_name": "Python 3",
   "language": "python",
   "name": "python3"
  },
  "language_info": {
   "codemirror_mode": {
    "name": "ipython",
    "version": 3
   },
   "file_extension": ".py",
   "mimetype": "text/x-python",
   "name": "python",
   "nbconvert_exporter": "python",
   "pygments_lexer": "ipython3",
   "version": "3.8.8"
  }
 },
 "nbformat": 4,
 "nbformat_minor": 5
}
