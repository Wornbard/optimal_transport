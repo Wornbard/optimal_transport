{
 "cells": [
  {
   "cell_type": "code",
   "execution_count": 1,
   "id": "0dc6d8a6",
   "metadata": {},
   "outputs": [],
   "source": [
    "import numpy as np\n",
    "from matplotlib import pyplot as plt\n",
    "import ot\n",
    "import scipy as sp\n",
    "import pandas as pd"
   ]
  },
  {
   "cell_type": "code",
   "execution_count": 2,
   "id": "6d1ba55a",
   "metadata": {},
   "outputs": [],
   "source": [
    "INF=1e7\n",
    "\n",
    "data_file='simulated_runs.csv'#file from which to load the tracking data\n",
    "run_number=0#a single data file can have the runs of multiple simulations. This tells the program which one to use\n",
    "\n",
    "#each observed point should be a dictionary with the following entries:\n",
    "#t: time, x,y, intensity(we could probably drop it after running OT)\n",
    "\n",
    "df=pd.read_csv(data_file)\n",
    "df=df.drop(df.columns[0],axis=1)\n",
    "df=df.loc[df.run_num==run_number]\n"
   ]
  },
  {
   "cell_type": "code",
   "execution_count": 3,
   "id": "070d4218",
   "metadata": {},
   "outputs": [],
   "source": [
    "frames=[df.loc[df.t==i].to_dict('records') for i in df.t.unique()]\n",
    "positions=[[[obs['x'],obs['y']]for obs in observations]for t,observations in enumerate(frames)]\n",
    "intensities=[np.array([obs['intensity'] for obs in observations]).reshape(-1,1) for t,observations in enumerate(frames)]\n"
   ]
  },
  {
   "cell_type": "code",
   "execution_count": 6,
   "id": "89c5394d",
   "metadata": {},
   "outputs": [],
   "source": [
    "sp=positions[0]\n",
    "ep=positions[1]"
   ]
  },
  {
   "cell_type": "code",
   "execution_count": null,
   "id": "ba919a32",
   "metadata": {},
   "outputs": [],
   "source": [
    "C=sp.spatial.distance."
   ]
  }
 ],
 "metadata": {
  "kernelspec": {
   "display_name": "Python 3",
   "language": "python",
   "name": "python3"
  },
  "language_info": {
   "codemirror_mode": {
    "name": "ipython",
    "version": 3
   },
   "file_extension": ".py",
   "mimetype": "text/x-python",
   "name": "python",
   "nbconvert_exporter": "python",
   "pygments_lexer": "ipython3",
   "version": "3.8.8"
  }
 },
 "nbformat": 4,
 "nbformat_minor": 5
}
