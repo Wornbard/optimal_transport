{
 "cells": [
  {
   "cell_type": "code",
   "execution_count": 1,
   "id": "6a311845",
   "metadata": {},
   "outputs": [],
   "source": [
    "import numpy as np\n",
    "from matplotlib import pyplot as plt\n",
    "import math"
   ]
  },
  {
   "cell_type": "code",
   "execution_count": 2,
   "id": "b1f90d78",
   "metadata": {},
   "outputs": [],
   "source": [
    "class particle_system:\n",
    "    def __init__(self,grid,dim=2):#grid:integer tuple\n",
    "        self.grid=grid\n",
    "        self.particles=[]\n",
    "        self.dim=dim\n",
    "        \n",
    "    def insert_particles(self,n,update_pos,update_intensity,start_pos=None,intensity=None):\n",
    "        if start_pos is None:\n",
    "            pos_data=[np.random.uniform(low=0, high=self.grid[i], size=n) for i in range(self.dim)]\n",
    "            start_pos=[(pos_data[i][j] for j in range(self.dim))for i range(n)]\n",
    "            \n",
    "        if intensity is None:\n",
    "            intensity=[1 for i in range(n)]\n",
    "            \n",
    "        for i in range(n):\n",
    "            self.particles.append(particle(self.grid,start_pos[i],update_pos,intensity[i],update_intensity))\n",
    "    def evolve(self,dt):\n",
    "        for p in self.particles:\n",
    "            p.evolve(dt)\n",
    "    def positions(self):\n",
    "        return [p.pos for p in self.particles]\n",
    "    def intensities(self):\n",
    "        return [p.intensity for p in self.particles]"
   ]
  },
  {
   "cell_type": "code",
   "execution_count": 3,
   "id": "5e3b8360",
   "metadata": {},
   "outputs": [],
   "source": [
    "class particle:\n",
    "    def __init__(self,grid,start_pos,update_pos,intensity,update_intensity,dim):\n",
    "        self.grid=grid#dimensions of the space it's restricted to\n",
    "        self.dim=dim\n",
    "        \n",
    "        self.pos=start_pos#current position\n",
    "        self.__class__.update_pos=update_pos\n",
    "        \n",
    "        self.intensity=intensity#current intensity\n",
    "        self.__class__.update_intensity = update_intensity\n",
    "        \n",
    "    def evolve(self,dt):\n",
    "        self.pos=self.update_pos(dt)\n",
    "        self.intensity=self.update_intensity(dt)\n",
    "        \n",
    "        "
   ]
  },
  {
   "cell_type": "code",
   "execution_count": 4,
   "id": "5cdb12f0",
   "metadata": {},
   "outputs": [],
   "source": [
    "def inside_grid(pos,grid):#assume grid has leftmost bottom corner in 0, check if a given point is inisde of it\n",
    "    inside_dimensions=[pos[i]>=0 and pos[i]<=grid_dim for i,grid_dim in enumerate(grid)]\n",
    "    return all(inside_dimensions)"
   ]
  },
  {
   "cell_type": "code",
   "execution_count": 5,
   "id": "06424858",
   "metadata": {},
   "outputs": [],
   "source": [
    "def brownian_update(part,dt,D,drift=None):\n",
    "    if drift is None:\n",
    "        drift=[0]*part.dim\n",
    "    mean=[dt*d for d in drift]\n",
    "    cov=np.identity(part.dim)*dt*D*2#the 2 term appears because I think that's the 'true' variance formula in Brownian motion but D may as well just be any number, not the diffusion coeff\n",
    "    dr = np.random.multivariate_normal(mean, cov, 1).T\n",
    "    if (any([np.abs(dr[i][0])>grid_dim/2 for i,grid_dim in enumerate(grid)])):#this is just bad code but we're unlikely to need more dimensions anytime soon\n",
    "        print(\"The time step in brownian motion seems to be too large relative to grid size\")#just to see if I'm doing anything stupid\n",
    "    pos=part.pos\n",
    "    new_pos=tuple(map(sum, zip(pos, (dr[i][0] for i,d in enumerate(dr)))))\n",
    "    if inside_grid(new_pos,part.grid):\n",
    "        return new_pos\n",
    "    else:#need to figure out where and when it intersects the boundary. For now let's just resample\n",
    "        return brownian_update(part,dt,D,drift)\n",
    "        \n",
    "        \n",
    "    "
   ]
  },
  {
   "cell_type": "markdown",
   "id": "f82946fa",
   "metadata": {},
   "source": [
    "It's time to use this simulation to do tracking"
   ]
  },
  {
   "cell_type": "code",
   "execution_count": 6,
   "id": "db91521d",
   "metadata": {},
   "outputs": [],
   "source": [
    "sys=particle_system((100,100))\n",
    "n=5\n",
    "sys.insert_particles(n,lambda x,y : brownian_update(x,y,1,[0,0]),lambda x,y : 1)\n",
    "\n",
    "dt=50\n",
    "beg_pos=sys.positions()\n",
    "beg_int=sys.intensities()\n",
    "\n",
    "sys.evolve(dt)\n",
    "\n",
    "end_pos=sys.positions()\n",
    "end_int=sys.intensities()\n"
   ]
  },
  {
   "cell_type": "markdown",
   "id": "cfff62b0",
   "metadata": {},
   "source": [
    "We need to transform it into a transportation problem"
   ]
  },
  {
   "cell_type": "code",
   "execution_count": 7,
   "id": "52243c8e",
   "metadata": {},
   "outputs": [],
   "source": [
    "a=np.array(beg_int).reshape((n,1))\n",
    "b=np.array(end_int).reshape((n,1))#try to make the shapes match with all of the linear algebra behind this\n"
   ]
  },
  {
   "cell_type": "code",
   "execution_count": 8,
   "id": "1b824a32",
   "metadata": {},
   "outputs": [],
   "source": [
    "def L2_cost(source,sink):\n",
    "    C=np.empty((len(source),len(sink)))\n",
    "    for i,pos1 in enumerate(source):\n",
    "        for j, pos2 in enumerate(sink):\n",
    "            C[i,j]=np.sqrt((pos1[0]-pos2[0])**2+(pos1[1]-pos2[1])**2)\n",
    "    return C"
   ]
  },
  {
   "cell_type": "code",
   "execution_count": 9,
   "id": "86024c7d",
   "metadata": {},
   "outputs": [],
   "source": [
    "C = L2_cost(beg_pos,end_pos)"
   ]
  },
  {
   "cell_type": "code",
   "execution_count": 10,
   "id": "488c5808",
   "metadata": {},
   "outputs": [],
   "source": [
    "import cvxpy as cp"
   ]
  },
  {
   "cell_type": "code",
   "execution_count": 11,
   "id": "11bbd92a",
   "metadata": {},
   "outputs": [],
   "source": [
    "P=cp.Variable((n,n))"
   ]
  },
  {
   "cell_type": "code",
   "execution_count": 12,
   "id": "cf71c0a9",
   "metadata": {},
   "outputs": [],
   "source": [
    "u = np.ones((n,1))\n",
    "v = np.ones((n,1))\n",
    "U = [0 <= P, cp.matmul(P,u)==a, cp.matmul(P.T,v)==b]"
   ]
  },
  {
   "cell_type": "code",
   "execution_count": 13,
   "id": "1c9e85bf",
   "metadata": {},
   "outputs": [],
   "source": [
    "objective = cp.Minimize( cp.sum(cp.multiply(P,C)) )\n",
    "prob = cp.Problem(objective, U)\n",
    "result = prob.solve()"
   ]
  },
  {
   "cell_type": "code",
   "execution_count": 14,
   "id": "2862fa4f",
   "metadata": {},
   "outputs": [
    {
     "data": {
      "text/plain": [
       "array([[9.99999999e-01, 2.78499472e-10, 1.36648670e-10, 6.22158082e-11,\n",
       "        5.42530480e-11],\n",
       "       [2.44043341e-10, 9.99999999e-01, 3.19744920e-11, 2.86490887e-10,\n",
       "        4.94193620e-11],\n",
       "       [1.02972309e-10, 5.65163010e-11, 1.00000000e+00, 2.20610310e-11,\n",
       "        5.08927077e-11],\n",
       "       [7.80577140e-11, 1.53825268e-10, 1.86305837e-11, 9.99999999e-01,\n",
       "        3.04525581e-10],\n",
       "       [1.06489147e-10, 1.23089310e-10, 4.52197847e-11, 1.84293711e-10,\n",
       "        1.00000000e+00]])"
      ]
     },
     "execution_count": 14,
     "metadata": {},
     "output_type": "execute_result"
    }
   ],
   "source": [
    "P.value"
   ]
  },
  {
   "cell_type": "markdown",
   "id": "b4644758",
   "metadata": {},
   "source": [
    "Visualise this"
   ]
  },
  {
   "cell_type": "code",
   "execution_count": 15,
   "id": "95ef22b7",
   "metadata": {},
   "outputs": [],
   "source": [
    "beg_x,beg_y= zip(*beg_pos)\n",
    "end_x,end_y= zip(*end_pos)"
   ]
  },
  {
   "cell_type": "code",
   "execution_count": 16,
   "id": "b8ef327f",
   "metadata": {},
   "outputs": [
    {
     "data": {
      "image/png": "[encoded data removed]",
      "text/plain": [
       "<Figure size 432x288 with 1 Axes>"
      ]
     },
     "metadata": {
      "needs_background": "light"
     },
     "output_type": "display_data"
    }
   ],
   "source": [
    "fig,ax=plt.subplots()\n",
    "\n",
    "ax.set_xlim([0,sys.grid[0]])\n",
    "ax.set_ylim([0,sys.grid[1]])\n",
    "ax.scatter(beg_x,beg_y,color='blue',s=20)\n",
    "ax.scatter(end_x,end_y,color='red',s=20)\n",
    "for i,pos in enumerate(beg_pos):\n",
    "    ax.annotate(i,(pos[0],pos[1]),size=15)\n",
    "for i,pos in enumerate(end_pos):\n",
    "    ax.annotate(i,(pos[0],pos[1]),size=15)\n",
    "    \n",
    "    \n",
    "for i in range(n):\n",
    "    for j in range(n):\n",
    "        if P.value[i,j]>0.1:#so there is a non-neglegible transport between the two\n",
    "            xvals=[beg_x[i],end_x[j]]\n",
    "            yvals=[beg_y[i],end_y[j]]\n",
    "            thickness=1.8*(P.value[i,j]/a[i])+0.2 #scaled by what fraction of the total transport from i it is\n",
    "            ax.plot(xvals,yvals,linewidth=thickness,color='black')"
   ]
  },
  {
   "cell_type": "code",
   "execution_count": 18,
   "id": "37e0026f",
   "metadata": {},
   "outputs": [],
   "source": [
    "mean=[0,0,0]\n",
    "cov=np.identity(3)\n",
    "dr = np.random.multivariate_normal(mean, cov, 1).T"
   ]
  },
  {
   "cell_type": "code",
   "execution_count": 21,
   "id": "edbfe3c2",
   "metadata": {},
   "outputs": [
    {
     "data": {
      "text/plain": [
       "array([0.80012287])"
      ]
     },
     "execution_count": 21,
     "metadata": {},
     "output_type": "execute_result"
    }
   ],
   "source": [
    "dr[0]"
   ]
  },
  {
   "cell_type": "code",
   "execution_count": null,
   "id": "b141baff",
   "metadata": {},
   "outputs": [],
   "source": []
  }
 ],
 "metadata": {
  "kernelspec": {
   "display_name": "Python 3",
   "language": "python",
   "name": "python3"
  },
  "language_info": {
   "codemirror_mode": {
    "name": "ipython",
    "version": 3
   },
   "file_extension": ".py",
   "mimetype": "text/x-python",
   "name": "python",
   "nbconvert_exporter": "python",
   "pygments_lexer": "ipython3",
   "version": "3.8.8"
  }
 },
 "nbformat": 4,
 "nbformat_minor": 5
}
