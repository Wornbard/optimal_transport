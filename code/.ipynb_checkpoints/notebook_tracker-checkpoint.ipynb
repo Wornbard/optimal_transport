{
 "cells": [
  {
   "cell_type": "code",
   "execution_count": 2,
   "id": "e04257dc",
   "metadata": {},
   "outputs": [],
   "source": [
    "import numpy as np\n",
    "from matplotlib import pyplot as plt \n",
    "import pandas as pd \n",
    "from ot_utils import normalise,Sinkhorn,sink_L2_cost\n",
    "\n",
    "INF=1e1\n",
    "\n",
    "data_file='simulated_runs.csv'#file from which to load the tracking data\n",
    "run_number=0#a single data file can have the runs of multiple simulations. This tells the program which one to use\n",
    "\n",
    "#each observed point should be a dictionary with the following entries:\n",
    "#t: time, x,y, intensity(we could probably drop it after running OT)\n",
    "\n",
    "df=pd.read_csv(data_file)\n",
    "df=df.drop(df.columns[0],axis=1)\n",
    "df=df.loc[df.run_num==run_number]\n",
    "\n",
    "sink_capacity=10\n",
    "source_capacity=30#in the current model things appear with high intensity and disappear with low intensity so the source capacity is made larger\n",
    "\n",
    "#CURRENTLY NOWHERE USED. NEED TO MODIFY THE L2 COST FUNCTION\n",
    "creation_cost=0\n",
    "deletion_cost=0#costs of creating/deleting particles\n",
    "\n",
    "#Start by creating transport matrices and using them to get hopefully meaningful weighs for connecting tracks\n",
    "\n",
    "#Extract the data to the usual form : position vectors, intensity vectors\n",
    "frames=[df.loc[df.t==i].to_dict('records') for i in df.t.unique()]\n",
    "positions=[[[obs['x'],obs['y']]for obs in observations]for t,observations in enumerate(frames)]\n",
    "intensities=[np.array([obs['intensity'] for obs in observations]).reshape(-1,1) for t,observations in enumerate(frames)]\n",
    "\n",
    "#make the actual histograms for Sinkhorn\n",
    "src_ints=[np.append(np.array([source_capacity,0]),si.flatten()).reshape((si.size+2,1)) for si in intensities]\n",
    "snk_ints=[np.append(np.array([0,sink_capacity]),ei.flatten()).reshape((1,ei.size+2)) for ei in intensities]\n",
    "costs=[sink_L2_cost(positions[i],positions[i+1],cr_cost=creation_cost,del_cost=deletion_cost,INF=1e2) for i in range(len(positions)-1)]\n",
    "\n",
    "#pick parameters for Sinkhorn\n",
    "epsilon=0.1\n",
    "steps=3000\n",
    "transports=[]\n",
    "for i,C in enumerate(costs):\n",
    "    f_init=np.zeros(src_ints[i].size)\n",
    "    P,Err=Sinkhorn(C,normalise(src_ints[i]),normalise(snk_ints[i+1]),epsilon,f_init,steps)\n",
    "    if float('NaN') in Err:\n",
    "        print('Sinkhorn probably failed. Step :',i)\n",
    "    transports.append(P)"
   ]
  },
  {
   "cell_type": "code",
   "execution_count": 3,
   "id": "f236aa69",
   "metadata": {},
   "outputs": [
    {
     "data": {
      "text/plain": [
       "<matplotlib.colorbar.Colorbar at 0x7f8b4a9459d0>"
      ]
     },
     "execution_count": 3,
     "metadata": {},
     "output_type": "execute_result"
    },
    {
     "data": {
      "image/png": "[encoded data removed]",
      "text/plain": [
       "<Figure size 432x288 with 2 Axes>"
      ]
     },
     "metadata": {
      "needs_background": "light"
     },
     "output_type": "display_data"
    }
   ],
   "source": [
    "fig,ax=plt.subplots()\n",
    "im=ax.imshow(transports[0],cmap = 'YlGnBu_r')\n",
    "fig.colorbar(im)"
   ]
  },
  {
   "cell_type": "code",
   "execution_count": 4,
   "id": "92131817",
   "metadata": {},
   "outputs": [
    {
     "data": {
      "text/plain": [
       "array([0.        , 0.01683651, 0.06158894, 0.04787458, 0.03121679,\n",
       "       0.02512499, 0.04068035, 0.05461357, 0.08217198])"
      ]
     },
     "execution_count": 4,
     "metadata": {},
     "output_type": "execute_result"
    }
   ],
   "source": [
    "transports[0][0]"
   ]
  },
  {
   "cell_type": "code",
   "execution_count": 5,
   "id": "6a82aaa5",
   "metadata": {},
   "outputs": [
    {
     "data": {
      "text/plain": [
       "<matplotlib.image.AxesImage at 0x7f8b45f74bb0>"
      ]
     },
     "execution_count": 5,
     "metadata": {},
     "output_type": "execute_result"
    },
    {
     "data": {
      "image/png": "[encoded data removed]",
      "text/plain": [
       "<Figure size 432x288 with 1 Axes>"
      ]
     },
     "metadata": {
      "needs_background": "light"
     },
     "output_type": "display_data"
    }
   ],
   "source": [
    "plt.imshow(costs[0])"
   ]
  },
  {
   "cell_type": "code",
   "execution_count": 6,
   "id": "1d51dd1c",
   "metadata": {},
   "outputs": [
    {
     "data": {
      "text/plain": [
       "[[7.356995921527013, 8.53576072121114],\n",
       " [7.139031300581397, 0.6422401137139433],\n",
       " [6.897766253824392, 0.3157907204173171],\n",
       " [8.898457475804133, 2.390321740618677],\n",
       " [5.293833929073411, 3.324466112230567]]"
      ]
     },
     "execution_count": 6,
     "metadata": {},
     "output_type": "execute_result"
    }
   ],
   "source": [
    "positions[0]"
   ]
  },
  {
   "cell_type": "code",
   "execution_count": 7,
   "id": "73e0584c",
   "metadata": {},
   "outputs": [
    {
     "data": {
      "text/plain": [
       "[[6.905499674435, 8.356468470709824],\n",
       " [7.495815539766701, 0.1266422449390379],\n",
       " [6.673872543672741, 0.4679160232535317],\n",
       " [8.754685430111211, 2.6059842049733937],\n",
       " [5.537664878596543, 1.8854748893654147],\n",
       " [7.472982519477856, 2.742098612720421],\n",
       " [2.8226506376591267, 4.763517144855957]]"
      ]
     },
     "execution_count": 7,
     "metadata": {},
     "output_type": "execute_result"
    }
   ],
   "source": [
    "positions[1]"
   ]
  },
  {
   "cell_type": "code",
   "execution_count": 9,
   "id": "5a232b4e",
   "metadata": {},
   "outputs": [],
   "source": [
    "part_pos=[[] for i in range(len(df.id.unique()))]\n",
    "for t,f in enumerate(frames):\n",
    "    for obs in f:\n",
    "        part_pos[obs['id']].append({'t':t,'x':obs['x'],'y':obs['y']})"
   ]
  },
  {
   "cell_type": "code",
   "execution_count": 25,
   "id": "ddc4ffe3",
   "metadata": {},
   "outputs": [
    {
     "data": {
      "text/plain": [
       "3"
      ]
     },
     "execution_count": 25,
     "metadata": {},
     "output_type": "execute_result"
    }
   ],
   "source": [
    "part_pos[10][0]['t']"
   ]
  },
  {
   "cell_type": "code",
   "execution_count": 11,
   "id": "d81d48a8",
   "metadata": {},
   "outputs": [],
   "source": [
    "import matplotlib.cm as cm\n",
    "colors = cm.rainbow(np.linspace(0, 1, len(part_pos)))"
   ]
  },
  {
   "cell_type": "code",
   "execution_count": 16,
   "id": "82fa86b6",
   "metadata": {},
   "outputs": [
    {
     "data": {
      "image/png": "[encoded data removed]",
      "text/plain": [
       "<Figure size 432x288 with 1 Axes>"
      ]
     },
     "metadata": {
      "needs_background": "light"
     },
     "output_type": "display_data"
    }
   ],
   "source": [
    "fig,ax=plt.subplots()\n",
    "ax.set_xlim([0,10])\n",
    "ax.set_ylim([0,10])\n",
    "for idx,track in enumerate(part_pos):\n",
    "    ax.plot([p['x']for p in track],[p['y']for p in track],color=colors[idx])"
   ]
  },
  {
   "cell_type": "code",
   "execution_count": 24,
   "id": "8c395ed4",
   "metadata": {},
   "outputs": [
    {
     "ename": "TypeError",
     "evalue": "list indices must be integers or slices, not str",
     "output_type": "error",
     "traceback": [
      "\u001b[1;31m---------------------------------------------------------------------------\u001b[0m",
      "\u001b[1;31mTypeError\u001b[0m                                 Traceback (most recent call last)",
      "\u001b[1;32m<ipython-input-24-a416164d2bf9>\u001b[0m in \u001b[0;36m<module>\u001b[1;34m\u001b[0m\n\u001b[0;32m      8\u001b[0m \u001b[0max\u001b[0m\u001b[1;33m.\u001b[0m\u001b[0mset_ylim\u001b[0m\u001b[1;33m(\u001b[0m\u001b[1;33m[\u001b[0m\u001b[1;36m0\u001b[0m\u001b[1;33m,\u001b[0m\u001b[1;36m10\u001b[0m\u001b[1;33m]\u001b[0m\u001b[1;33m)\u001b[0m\u001b[1;33m\u001b[0m\u001b[1;33m\u001b[0m\u001b[0m\n\u001b[0;32m      9\u001b[0m \u001b[1;33m\u001b[0m\u001b[0m\n\u001b[1;32m---> 10\u001b[1;33m \u001b[0max\u001b[0m\u001b[1;33m.\u001b[0m\u001b[0mplot\u001b[0m\u001b[1;33m(\u001b[0m\u001b[1;33m[\u001b[0m\u001b[0mpart_pos\u001b[0m\u001b[1;33m[\u001b[0m\u001b[0mids\u001b[0m\u001b[1;33m[\u001b[0m\u001b[0mt\u001b[0m\u001b[1;33m]\u001b[0m\u001b[1;33m]\u001b[0m\u001b[1;33m[\u001b[0m\u001b[0mt\u001b[0m\u001b[1;33m-\u001b[0m\u001b[0mpart_pos\u001b[0m\u001b[1;33m[\u001b[0m\u001b[0mids\u001b[0m\u001b[1;33m[\u001b[0m\u001b[0mt\u001b[0m\u001b[1;33m]\u001b[0m\u001b[1;33m]\u001b[0m\u001b[1;33m[\u001b[0m\u001b[1;36m0\u001b[0m\u001b[1;33m]\u001b[0m\u001b[1;33m[\u001b[0m\u001b[1;34m't'\u001b[0m\u001b[1;33m]\u001b[0m\u001b[1;33m]\u001b[0m\u001b[1;33m[\u001b[0m\u001b[1;34m'x'\u001b[0m\u001b[1;33m]\u001b[0m\u001b[1;32mfor\u001b[0m \u001b[0mt\u001b[0m \u001b[1;32min\u001b[0m \u001b[0mtimes\u001b[0m\u001b[1;33m]\u001b[0m\u001b[1;33m,\u001b[0m\u001b[1;33m[\u001b[0m\u001b[0mpart_pos\u001b[0m\u001b[1;33m[\u001b[0m\u001b[0mids\u001b[0m\u001b[1;33m[\u001b[0m\u001b[0mt\u001b[0m\u001b[1;33m]\u001b[0m\u001b[1;33m]\u001b[0m\u001b[1;33m[\u001b[0m\u001b[0mt\u001b[0m\u001b[1;33m-\u001b[0m\u001b[0mpart_pos\u001b[0m\u001b[1;33m[\u001b[0m\u001b[0mids\u001b[0m\u001b[1;33m[\u001b[0m\u001b[1;34m't'\u001b[0m\u001b[1;33m]\u001b[0m\u001b[1;33m]\u001b[0m\u001b[1;33m[\u001b[0m\u001b[1;36m0\u001b[0m\u001b[1;33m]\u001b[0m\u001b[1;33m[\u001b[0m\u001b[0mt\u001b[0m\u001b[1;33m]\u001b[0m\u001b[1;33m]\u001b[0m\u001b[1;33m[\u001b[0m\u001b[1;34m'y'\u001b[0m\u001b[1;33m]\u001b[0m\u001b[1;32mfor\u001b[0m \u001b[0mt\u001b[0m \u001b[1;32min\u001b[0m \u001b[0mtimes\u001b[0m\u001b[1;33m]\u001b[0m\u001b[1;33m,\u001b[0m\u001b[0mcolor\u001b[0m\u001b[1;33m=\u001b[0m\u001b[0mc\u001b[0m\u001b[1;33m)\u001b[0m\u001b[1;33m\u001b[0m\u001b[1;33m\u001b[0m\u001b[0m\n\u001b[0m",
      "\u001b[1;32m<ipython-input-24-a416164d2bf9>\u001b[0m in \u001b[0;36m<listcomp>\u001b[1;34m(.0)\u001b[0m\n\u001b[0;32m      8\u001b[0m \u001b[0max\u001b[0m\u001b[1;33m.\u001b[0m\u001b[0mset_ylim\u001b[0m\u001b[1;33m(\u001b[0m\u001b[1;33m[\u001b[0m\u001b[1;36m0\u001b[0m\u001b[1;33m,\u001b[0m\u001b[1;36m10\u001b[0m\u001b[1;33m]\u001b[0m\u001b[1;33m)\u001b[0m\u001b[1;33m\u001b[0m\u001b[1;33m\u001b[0m\u001b[0m\n\u001b[0;32m      9\u001b[0m \u001b[1;33m\u001b[0m\u001b[0m\n\u001b[1;32m---> 10\u001b[1;33m \u001b[0max\u001b[0m\u001b[1;33m.\u001b[0m\u001b[0mplot\u001b[0m\u001b[1;33m(\u001b[0m\u001b[1;33m[\u001b[0m\u001b[0mpart_pos\u001b[0m\u001b[1;33m[\u001b[0m\u001b[0mids\u001b[0m\u001b[1;33m[\u001b[0m\u001b[0mt\u001b[0m\u001b[1;33m]\u001b[0m\u001b[1;33m]\u001b[0m\u001b[1;33m[\u001b[0m\u001b[0mt\u001b[0m\u001b[1;33m-\u001b[0m\u001b[0mpart_pos\u001b[0m\u001b[1;33m[\u001b[0m\u001b[0mids\u001b[0m\u001b[1;33m[\u001b[0m\u001b[0mt\u001b[0m\u001b[1;33m]\u001b[0m\u001b[1;33m]\u001b[0m\u001b[1;33m[\u001b[0m\u001b[1;36m0\u001b[0m\u001b[1;33m]\u001b[0m\u001b[1;33m[\u001b[0m\u001b[1;34m't'\u001b[0m\u001b[1;33m]\u001b[0m\u001b[1;33m]\u001b[0m\u001b[1;33m[\u001b[0m\u001b[1;34m'x'\u001b[0m\u001b[1;33m]\u001b[0m\u001b[1;32mfor\u001b[0m \u001b[0mt\u001b[0m \u001b[1;32min\u001b[0m \u001b[0mtimes\u001b[0m\u001b[1;33m]\u001b[0m\u001b[1;33m,\u001b[0m\u001b[1;33m[\u001b[0m\u001b[0mpart_pos\u001b[0m\u001b[1;33m[\u001b[0m\u001b[0mids\u001b[0m\u001b[1;33m[\u001b[0m\u001b[0mt\u001b[0m\u001b[1;33m]\u001b[0m\u001b[1;33m]\u001b[0m\u001b[1;33m[\u001b[0m\u001b[0mt\u001b[0m\u001b[1;33m-\u001b[0m\u001b[0mpart_pos\u001b[0m\u001b[1;33m[\u001b[0m\u001b[0mids\u001b[0m\u001b[1;33m[\u001b[0m\u001b[1;34m't'\u001b[0m\u001b[1;33m]\u001b[0m\u001b[1;33m]\u001b[0m\u001b[1;33m[\u001b[0m\u001b[1;36m0\u001b[0m\u001b[1;33m]\u001b[0m\u001b[1;33m[\u001b[0m\u001b[0mt\u001b[0m\u001b[1;33m]\u001b[0m\u001b[1;33m]\u001b[0m\u001b[1;33m[\u001b[0m\u001b[1;34m'y'\u001b[0m\u001b[1;33m]\u001b[0m\u001b[1;32mfor\u001b[0m \u001b[0mt\u001b[0m \u001b[1;32min\u001b[0m \u001b[0mtimes\u001b[0m\u001b[1;33m]\u001b[0m\u001b[1;33m,\u001b[0m\u001b[0mcolor\u001b[0m\u001b[1;33m=\u001b[0m\u001b[0mc\u001b[0m\u001b[1;33m)\u001b[0m\u001b[1;33m\u001b[0m\u001b[1;33m\u001b[0m\u001b[0m\n\u001b[0m",
      "\u001b[1;31mTypeError\u001b[0m: list indices must be integers or slices, not str"
     ]
    },
    {
     "data": {
      "image/png": "[encoded data removed]",
      "text/plain": [
       "<Figure size 432x288 with 1 Axes>"
      ]
     },
     "metadata": {
      "needs_background": "light"
     },
     "output_type": "display_data"
    }
   ],
   "source": [
    "ids=[0, 0, 0, 10, 10, 0, 0, 0, 0, 0, 0, 0, 0, 0, 10, 10, 10, 10, 10, 10]\n",
    "times=[0, 1, 2, 3, 4, 5, 6, 7, 8, 9, 10, 11, 12, 13, 14, 15, 16, 17, 18, 19]\n",
    "c=[colors[idx] for idx in ids]\n",
    "\n",
    "fig,ax=plt.subplots()\n",
    "\n",
    "ax.set_xlim([0,10])\n",
    "ax.set_ylim([0,10])\n",
    "\n",
    "x_list=[]\n",
    "y_list=[]\n",
    "\n",
    "for idx,t in enumerate(times):\n"
   ]
  },
  {
   "cell_type": "code",
   "execution_count": null,
   "id": "8e909bba",
   "metadata": {},
   "outputs": [],
   "source": []
  }
 ],
 "metadata": {
  "kernelspec": {
   "display_name": "Python 3",
   "language": "python",
   "name": "python3"
  },
  "language_info": {
   "codemirror_mode": {
    "name": "ipython",
    "version": 3
   },
   "file_extension": ".py",
   "mimetype": "text/x-python",
   "name": "python",
   "nbconvert_exporter": "python",
   "pygments_lexer": "ipython3",
   "version": "3.8.8"
  }
 },
 "nbformat": 4,
 "nbformat_minor": 5
}
