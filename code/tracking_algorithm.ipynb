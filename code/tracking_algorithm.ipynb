{
 "cells": [
  {
   "cell_type": "code",
   "execution_count": 2,
   "id": "904581af",
   "metadata": {},
   "outputs": [],
   "source": [
    "import numpy as np\n",
    "from matplotlib import pyplot as plt\n",
    "import pandas as pd\n",
    "from motion_utils import *\n",
    "from ot_utils import  *"
   ]
  },
  {
   "cell_type": "code",
   "execution_count": 59,
   "id": "6846aee0",
   "metadata": {},
   "outputs": [],
   "source": [
    "df=pd.read_csv('simulated_runs.csv')"
   ]
  },
  {
   "cell_type": "code",
   "execution_count": 60,
   "id": "e36fc7e7",
   "metadata": {},
   "outputs": [],
   "source": [
    "df=df.drop(df.columns[0],axis=1)"
   ]
  },
  {
   "cell_type": "code",
   "execution_count": 61,
   "id": "04e2afe1",
   "metadata": {},
   "outputs": [
    {
     "data": {
      "text/html": [
       "<div>\n",
       "<style scoped>\n",
       "    .dataframe tbody tr th:only-of-type {\n",
       "        vertical-align: middle;\n",
       "    }\n",
       "\n",
       "    .dataframe tbody tr th {\n",
       "        vertical-align: top;\n",
       "    }\n",
       "\n",
       "    .dataframe thead th {\n",
       "        text-align: right;\n",
       "    }\n",
       "</style>\n",
       "<table border=\"1\" class=\"dataframe\">\n",
       "  <thead>\n",
       "    <tr style=\"text-align: right;\">\n",
       "      <th></th>\n",
       "      <th>run_num</th>\n",
       "      <th>t</th>\n",
       "      <th>x</th>\n",
       "      <th>y</th>\n",
       "      <th>intensity</th>\n",
       "      <th>id</th>\n",
       "    </tr>\n",
       "  </thead>\n",
       "  <tbody>\n",
       "    <tr>\n",
       "      <th>0</th>\n",
       "      <td>0</td>\n",
       "      <td>0</td>\n",
       "      <td>7.660274</td>\n",
       "      <td>9.299760</td>\n",
       "      <td>8.013584</td>\n",
       "      <td>0</td>\n",
       "    </tr>\n",
       "    <tr>\n",
       "      <th>1</th>\n",
       "      <td>0</td>\n",
       "      <td>0</td>\n",
       "      <td>0.267214</td>\n",
       "      <td>7.266611</td>\n",
       "      <td>11.823975</td>\n",
       "      <td>1</td>\n",
       "    </tr>\n",
       "    <tr>\n",
       "      <th>2</th>\n",
       "      <td>0</td>\n",
       "      <td>0</td>\n",
       "      <td>8.209812</td>\n",
       "      <td>6.207118</td>\n",
       "      <td>7.959624</td>\n",
       "      <td>2</td>\n",
       "    </tr>\n",
       "    <tr>\n",
       "      <th>3</th>\n",
       "      <td>0</td>\n",
       "      <td>0</td>\n",
       "      <td>0.651430</td>\n",
       "      <td>0.305783</td>\n",
       "      <td>11.447588</td>\n",
       "      <td>3</td>\n",
       "    </tr>\n",
       "    <tr>\n",
       "      <th>4</th>\n",
       "      <td>0</td>\n",
       "      <td>0</td>\n",
       "      <td>6.104663</td>\n",
       "      <td>7.701214</td>\n",
       "      <td>6.717697</td>\n",
       "      <td>4</td>\n",
       "    </tr>\n",
       "    <tr>\n",
       "      <th>...</th>\n",
       "      <td>...</td>\n",
       "      <td>...</td>\n",
       "      <td>...</td>\n",
       "      <td>...</td>\n",
       "      <td>...</td>\n",
       "      <td>...</td>\n",
       "    </tr>\n",
       "    <tr>\n",
       "      <th>3015</th>\n",
       "      <td>19</td>\n",
       "      <td>19</td>\n",
       "      <td>2.500939</td>\n",
       "      <td>6.357124</td>\n",
       "      <td>27.046461</td>\n",
       "      <td>5</td>\n",
       "    </tr>\n",
       "    <tr>\n",
       "      <th>3016</th>\n",
       "      <td>19</td>\n",
       "      <td>19</td>\n",
       "      <td>8.754228</td>\n",
       "      <td>3.858660</td>\n",
       "      <td>4.922800</td>\n",
       "      <td>6</td>\n",
       "    </tr>\n",
       "    <tr>\n",
       "      <th>3017</th>\n",
       "      <td>19</td>\n",
       "      <td>19</td>\n",
       "      <td>1.324228</td>\n",
       "      <td>5.705852</td>\n",
       "      <td>9.712932</td>\n",
       "      <td>7</td>\n",
       "    </tr>\n",
       "    <tr>\n",
       "      <th>3018</th>\n",
       "      <td>19</td>\n",
       "      <td>19</td>\n",
       "      <td>1.819672</td>\n",
       "      <td>2.041279</td>\n",
       "      <td>11.288841</td>\n",
       "      <td>8</td>\n",
       "    </tr>\n",
       "    <tr>\n",
       "      <th>3019</th>\n",
       "      <td>19</td>\n",
       "      <td>19</td>\n",
       "      <td>6.493946</td>\n",
       "      <td>8.060286</td>\n",
       "      <td>5.693660</td>\n",
       "      <td>9</td>\n",
       "    </tr>\n",
       "  </tbody>\n",
       "</table>\n",
       "<p>3020 rows × 6 columns</p>\n",
       "</div>"
      ],
      "text/plain": [
       "      run_num   t         x         y  intensity  id\n",
       "0           0   0  7.660274  9.299760   8.013584   0\n",
       "1           0   0  0.267214  7.266611  11.823975   1\n",
       "2           0   0  8.209812  6.207118   7.959624   2\n",
       "3           0   0  0.651430  0.305783  11.447588   3\n",
       "4           0   0  6.104663  7.701214   6.717697   4\n",
       "...       ...  ..       ...       ...        ...  ..\n",
       "3015       19  19  2.500939  6.357124  27.046461   5\n",
       "3016       19  19  8.754228  3.858660   4.922800   6\n",
       "3017       19  19  1.324228  5.705852   9.712932   7\n",
       "3018       19  19  1.819672  2.041279  11.288841   8\n",
       "3019       19  19  6.493946  8.060286   5.693660   9\n",
       "\n",
       "[3020 rows x 6 columns]"
      ]
     },
     "execution_count": 61,
     "metadata": {},
     "output_type": "execute_result"
    }
   ],
   "source": [
    "df"
   ]
  },
  {
   "cell_type": "code",
   "execution_count": 62,
   "id": "64a27cc5",
   "metadata": {},
   "outputs": [],
   "source": [
    "one_run=df.loc[df.run_num==0]"
   ]
  },
  {
   "cell_type": "markdown",
   "id": "c2ac74c7",
   "metadata": {},
   "source": [
    "Before we decide how to get OT involved in this, let's first generate cost matrices according to some simple rule that is somewhat reasonable"
   ]
  },
  {
   "cell_type": "code",
   "execution_count": 158,
   "id": "dcb174cd",
   "metadata": {},
   "outputs": [],
   "source": [
    "normalize = lambda x : x/np.sum(np.abs(x))"
   ]
  },
  {
   "cell_type": "code",
   "execution_count": 159,
   "id": "0074b07a",
   "metadata": {},
   "outputs": [],
   "source": [
    "frames=[one_run.loc[one_run.t==i].to_dict('records') for i in one_run.t.unique()]"
   ]
  },
  {
   "cell_type": "code",
   "execution_count": 160,
   "id": "11e90b30",
   "metadata": {},
   "outputs": [],
   "source": [
    "def connection_likelihood(frame1,frame2):\n",
    "    #Let's say we solve it first without disappearance\n",
    "    '''for i,f1 in enumerate(frame1):\n",
    "        for j,f2 in enumerate(frame2):\n",
    "            print(i,j)\n",
    "            print(1/((f2['x']-f1['x'])**2+(f2['y']-f1['y'])**2))\n",
    "    '''\n",
    "    C=np.array([normalize(np.log([1/((f2['x']-f1['x'])**2+(f2['y']-f1['y'])**2)  for f2 in frame2]))for f1 in frame1])\n",
    "    return C"
   ]
  },
  {
   "cell_type": "code",
   "execution_count": 161,
   "id": "5902f06e",
   "metadata": {},
   "outputs": [],
   "source": [
    "T=[connection_likelihood(frames[i],frames[i+1])for i in range(len(frames)-1)]#temporary costs of transport between consecutive images"
   ]
  },
  {
   "cell_type": "code",
   "execution_count": 162,
   "id": "cc4ddb33",
   "metadata": {},
   "outputs": [
    {
     "data": {
      "text/plain": [
       "array([[ 0.0791107 , -0.2396852 , -0.12863488, -0.2799576 , -0.09344893,\n",
       "        -0.17916269],\n",
       "       [-0.18516598,  0.16798051, -0.19569968, -0.18188983, -0.16365859,\n",
       "        -0.10560542],\n",
       "       [-0.11027008, -0.23129824,  0.11729241, -0.24366298, -0.1047369 ,\n",
       "        -0.1927394 ],\n",
       "       [-0.21097169, -0.17019359, -0.2026206 ,  0.02927309, -0.19574642,\n",
       "        -0.19119461],\n",
       "       [-0.04391518, -0.13646215, -0.07629155, -0.16624292,  0.48805458,\n",
       "        -0.08903362],\n",
       "       [-0.15786335, -0.12175835, -0.1875027 , -0.22509124, -0.12642672,\n",
       "         0.18135764]])"
      ]
     },
     "execution_count": 162,
     "metadata": {},
     "output_type": "execute_result"
    }
   ],
   "source": [
    "T[0]"
   ]
  },
  {
   "cell_type": "markdown",
   "id": "5536bb1d",
   "metadata": {},
   "source": [
    "We come to the heart of the algorithm, or the depths of my despair because I have no clue how it's going to work"
   ]
  },
  {
   "cell_type": "code",
   "execution_count": 163,
   "id": "b67f4a90",
   "metadata": {},
   "outputs": [],
   "source": [
    "used_points=[]#wll add tuples of (t,idx) of things that have already appeared in the higher scored paths\n",
    "paths=[]\n",
    "INF=1e7\n",
    "def ml_path():\n",
    "    tmp=[[{'value':0,'previous' : None} for j,target in enumerate(T[0][0])]]#highest price of reaching a given point at time t and idx of point we reach it from\n",
    "    for j,target in enumerate(T[0][0]):\n",
    "        tmp[0][j]={'value':0,'previous' : None}\n",
    "    for time,M in enumerate(T):\n",
    "        tmp.append([{'value':-INF,'previous' : None}for j,target in enumerate(M[0])])\n",
    "        for i,row in enumerate(M):\n",
    "            if((time,i) not in used_points):\n",
    "                for j,target in enumerate(row):\n",
    "                    if((time+1,j) not in used_points):\n",
    "                        if(M[i][j]+tmp[time][i]['value']>tmp[time+1][j]['value']):\n",
    "                            tmp[time+1][j]['value']=M[i][j]+tmp[time][i]['value']\n",
    "                            tmp[time+1][j]['previous']=i#note index used\n",
    "    #now that we did that it's time to recover a maximal path. It would be nice to make it recursive at some point but for now whatever.\n",
    "    #print(tmp)\n",
    "    t=len(tmp)-1#last index\n",
    "    maxid=None\n",
    "    maxval=-INF\n",
    "    track=[]\n",
    "    for j,target in enumerate(T[t-1]):\n",
    "        if tmp[t][j]['value']>maxval:\n",
    "            maxval=tmp[t][j]['value']\n",
    "            maxid=j\n",
    "    used_points.append((t,maxid))\n",
    "    track.append((t,maxid))\n",
    "    next_i=tmp[t][maxid]['previous']\n",
    "    while(t>0):\n",
    "        t-=1\n",
    "        track.append((t,next_i))\n",
    "        used_points.append((t,next_i))\n",
    "        next_i=tmp[t][next_i]['previous']\n",
    "    return track"
   ]
  },
  {
   "cell_type": "markdown",
   "id": "27059ca7",
   "metadata": {},
   "source": [
    "Plot this and compare to ground truth. Ideally we would like a more methodical approach for measuring how good it is"
   ]
  },
  {
   "cell_type": "code",
   "execution_count": 164,
   "id": "03315622",
   "metadata": {},
   "outputs": [],
   "source": [
    "tracks=[]\n",
    "for i in range(T[0].shape[0]):\n",
    "    tracks.append(ml_path())\n",
    "for i,t in enumerate(tracks):\n",
    "    t.reverse()"
   ]
  },
  {
   "cell_type": "markdown",
   "id": "24be2b62",
   "metadata": {},
   "source": [
    "Visual comparison:"
   ]
  },
  {
   "cell_type": "code",
   "execution_count": 173,
   "id": "055bbacc",
   "metadata": {},
   "outputs": [
    {
     "data": {
      "text/plain": [
       "[<matplotlib.lines.Line2D at 0x7f9f19a91d60>]"
      ]
     },
     "execution_count": 173,
     "metadata": {},
     "output_type": "execute_result"
    },
    {
     "data": {
      "image/png": "[encoded data removed]",
      "text/plain": [
       "<Figure size 432x288 with 1 Axes>"
      ]
     },
     "metadata": {
      "needs_background": "light"
     },
     "output_type": "display_data"
    }
   ],
   "source": [
    "def track_id(idx):\n",
    "    track=[(t,idx) for t in range(len(frames))]\n",
    "    return track\n",
    "\n",
    "fig,ax=plt.subplots()\n",
    "ax.set_xlim([0,10])\n",
    "ax.set_ylim([0,10])\n",
    "\n",
    "track=tracks[1]\n",
    "x_data=[frames[t[0]][t[1]]['x'] for t in track]\n",
    "y_data=[frames[t[0]][t[1]]['y'] for t in track]\n",
    "ax.plot(x_data,y_data)"
   ]
  },
  {
   "cell_type": "code",
   "execution_count": 134,
   "id": "ce552e9b",
   "metadata": {},
   "outputs": [
    {
     "data": {
      "text/plain": [
       "[{'run_num': 0,\n",
       "  't': 3,\n",
       "  'x': 7.75009411462528,\n",
       "  'y': 9.460844143803246,\n",
       "  'intensity': 7.151063145843136,\n",
       "  'id': 0},\n",
       " {'run_num': 0,\n",
       "  't': 3,\n",
       "  'x': 0.1095014565747062,\n",
       "  'y': 7.657316884413103,\n",
       "  'intensity': 10.94625134140929,\n",
       "  'id': 1},\n",
       " {'run_num': 0,\n",
       "  't': 3,\n",
       "  'x': 8.540687415480479,\n",
       "  'y': 5.740417151691509,\n",
       "  'intensity': -4.973045373765293,\n",
       "  'id': 2},\n",
       " {'run_num': 0,\n",
       "  't': 3,\n",
       "  'x': 1.5515923744839335,\n",
       "  'y': 0.1668497358244725,\n",
       "  'intensity': 16.047622973875477,\n",
       "  'id': 3},\n",
       " {'run_num': 0,\n",
       "  't': 3,\n",
       "  'x': 6.842885901512641,\n",
       "  'y': 6.920600917007161,\n",
       "  'intensity': 9.262693953307362,\n",
       "  'id': 4},\n",
       " {'run_num': 0,\n",
       "  't': 3,\n",
       "  'x': 2.5641222385618905,\n",
       "  'y': 9.756271745965991,\n",
       "  'intensity': 6.973918920431308,\n",
       "  'id': 5}]"
      ]
     },
     "execution_count": 134,
     "metadata": {},
     "output_type": "execute_result"
    }
   ],
   "source": [
    "frames[3]"
   ]
  },
  {
   "cell_type": "code",
   "execution_count": null,
   "id": "0075ed62",
   "metadata": {},
   "outputs": [],
   "source": []
  }
 ],
 "metadata": {
  "kernelspec": {
   "display_name": "Python 3",
   "language": "python",
   "name": "python3"
  },
  "language_info": {
   "codemirror_mode": {
    "name": "ipython",
    "version": 3
   },
   "file_extension": ".py",
   "mimetype": "text/x-python",
   "name": "python",
   "nbconvert_exporter": "python",
   "pygments_lexer": "ipython3",
   "version": "3.8.8"
  }
 },
 "nbformat": 4,
 "nbformat_minor": 5
}
