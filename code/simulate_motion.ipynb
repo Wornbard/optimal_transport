{
 "cells": [
  {
   "cell_type": "code",
   "execution_count": 4,
   "id": "6a311845",
   "metadata": {},
   "outputs": [],
   "source": [
    "import numpy as np\n",
    "from matplotlib import pyplot as plt\n",
    "import math"
   ]
  },
  {
   "cell_type": "code",
   "execution_count": 37,
   "id": "b1f90d78",
   "metadata": {},
   "outputs": [],
   "source": [
    "class particle_system:\n",
    "    def __init__(self,grid,creation):#grid:integer tuple\n",
    "        self.grid=grid\n",
    "        self.particles=[]\n",
    "        self.dim=len(self.grid)\n",
    "        self.__class__.creation=creation\n",
    "        \n",
    "    def insert_particles(self,n,update_pos,update_intensity,start_pos=None,intensity=None):\n",
    "        if start_pos is None:\n",
    "            pos_data=[np.random.uniform(low=0, high=self.grid[i], size=n) for i in range(self.dim)]\n",
    "            start_pos=[[pos_data[j][i] for j in range(self.dim)]for i in range(n)]\n",
    "        if intensity is None:\n",
    "            intensity=[1 for i in range(n)]\n",
    "            \n",
    "        for i in range(n):\n",
    "            self.particles.append(particle(self.grid,start_pos[i],update_pos,intensity[i],update_intensity))\n",
    "    def evolve(self,dt):\n",
    "        print(\"before: \")\n",
    "        print(self.intensities())\n",
    "        for p in self.particles:\n",
    "            p.evolve(dt)\n",
    "            if p.intensity==0:#remove if intensity drops to 0\n",
    "                self.particles.remove(p)\n",
    "        print(\"after: \")\n",
    "        print(self.intensities())\n",
    "        self.creation(dt)\n",
    "    def positions(self):\n",
    "        return [p.pos for p in self.particles]\n",
    "    def intensities(self):\n",
    "        return [p.intensity for p in self.particles]"
   ]
  },
  {
   "cell_type": "code",
   "execution_count": 38,
   "id": "5e3b8360",
   "metadata": {},
   "outputs": [],
   "source": [
    "class particle:\n",
    "    def __init__(self,grid,start_pos,update_pos,intensity,update_intensity):\n",
    "        self.grid=grid#dimensions of the space it's restricted to\n",
    "        self.dim=len(self.grid)\n",
    "        \n",
    "        self.pos=start_pos#current position\n",
    "        self.__class__.update_pos=update_pos\n",
    "        \n",
    "        self.intensity=intensity#current intensity\n",
    "        self.__class__.update_intensity = update_intensity\n",
    "        \n",
    "    def evolve(self,dt):\n",
    "        self.pos=self.update_pos(dt)\n",
    "        self.intensity=self.update_intensity(dt)\n",
    "        \n",
    "        "
   ]
  },
  {
   "cell_type": "code",
   "execution_count": 7,
   "id": "5cdb12f0",
   "metadata": {},
   "outputs": [],
   "source": [
    "def inside_grid(pos,grid):#assume grid has leftmost bottom corner in 0, check if a given point is inisde of it\n",
    "    inside_dimensions=[pos[i]>=0 and pos[i]<=grid_dim for i,grid_dim in enumerate(grid)]\n",
    "    return all(inside_dimensions)"
   ]
  },
  {
   "cell_type": "code",
   "execution_count": 8,
   "id": "06424858",
   "metadata": {},
   "outputs": [],
   "source": [
    "def brownian_update(part,dt,D,drift=None):\n",
    "    if drift is None:\n",
    "        drift=[0]*part.dim\n",
    "    mean=[dt*d for d in drift]\n",
    "    cov=np.identity(part.dim)*dt*D*2#the 2 term appears because I think that's the 'true' variance formula in Brownian motion but D may as well just be any number, not the diffusion coeff\n",
    "    dr = np.random.multivariate_normal(mean, cov, 1).T\n",
    "    if (any([np.abs(dr[i][0])>grid_dim/2 for i,grid_dim in enumerate(part.grid)])):#this is just bad code but we're unlikely to need more dimensions anytime soon\n",
    "        print(\"The time step in brownian motion seems to be too large relative to grid size\")#just to see if I'm doing anything stupid\n",
    "    pos=part.pos\n",
    "    new_pos=list(map(sum, zip(pos, [dr[i][0] for i,d in enumerate(dr)])))\n",
    "    if inside_grid(new_pos,part.grid):\n",
    "        return new_pos\n",
    "    else:#need to figure out where and when it intersects the boundary. For now let's just resample\n",
    "        return brownian_update(part,dt,D,drift)\n",
    "        \n",
    "        \n",
    "    "
   ]
  },
  {
   "cell_type": "markdown",
   "id": "f82946fa",
   "metadata": {},
   "source": [
    "It's time to use this simulation to do tracking"
   ]
  },
  {
   "cell_type": "code",
   "execution_count": 6,
   "id": "db91521d",
   "metadata": {},
   "outputs": [],
   "source": [
    "sys=particle_system([100,100])\n",
    "n=5\n",
    "sys.insert_particles(n,lambda x,y : brownian_update(x,y,1),lambda x,y : 1)\n",
    "\n",
    "dt=50\n",
    "beg_pos=sys.positions()\n",
    "beg_int=sys.intensities()\n",
    "\n",
    "sys.evolve(dt)\n",
    "\n",
    "end_pos=sys.positions()\n",
    "end_int=sys.intensities()\n"
   ]
  },
  {
   "cell_type": "markdown",
   "id": "cfff62b0",
   "metadata": {},
   "source": [
    "We need to transform it into a transportation problem"
   ]
  },
  {
   "cell_type": "code",
   "execution_count": 7,
   "id": "52243c8e",
   "metadata": {},
   "outputs": [],
   "source": [
    "a=np.array(beg_int).reshape((n,1))\n",
    "b=np.array(end_int).reshape((n,1))#try to make the shapes match with all of the linear algebra behind this\n"
   ]
  },
  {
   "cell_type": "code",
   "execution_count": 8,
   "id": "1b824a32",
   "metadata": {},
   "outputs": [],
   "source": [
    "def L2_cost(source,sink):\n",
    "    C=np.empty((len(source),len(sink)))\n",
    "    for i,pos1 in enumerate(source):\n",
    "        for j, pos2 in enumerate(sink):\n",
    "            C[i,j]=np.sqrt(np.sum([(pos1[i]-pos2[i])**2 for i,p in enumerate(pos1)]))\n",
    "    return C"
   ]
  },
  {
   "cell_type": "code",
   "execution_count": 9,
   "id": "86024c7d",
   "metadata": {},
   "outputs": [],
   "source": [
    "C = L2_cost(beg_pos,end_pos)"
   ]
  },
  {
   "cell_type": "code",
   "execution_count": 10,
   "id": "488c5808",
   "metadata": {},
   "outputs": [],
   "source": [
    "import cvxpy as cp"
   ]
  },
  {
   "cell_type": "code",
   "execution_count": 11,
   "id": "11bbd92a",
   "metadata": {},
   "outputs": [],
   "source": [
    "P=cp.Variable((n,n))"
   ]
  },
  {
   "cell_type": "code",
   "execution_count": 12,
   "id": "cf71c0a9",
   "metadata": {},
   "outputs": [],
   "source": [
    "u = np.ones((n,1))\n",
    "v = np.ones((n,1))\n",
    "U = [0 <= P, cp.matmul(P,u)==a, cp.matmul(P.T,v)==b]"
   ]
  },
  {
   "cell_type": "code",
   "execution_count": 13,
   "id": "1c9e85bf",
   "metadata": {},
   "outputs": [],
   "source": [
    "objective = cp.Minimize( cp.sum(cp.multiply(P,C)) )\n",
    "prob = cp.Problem(objective, U)\n",
    "result = prob.solve()"
   ]
  },
  {
   "cell_type": "code",
   "execution_count": 14,
   "id": "2862fa4f",
   "metadata": {},
   "outputs": [
    {
     "data": {
      "text/plain": [
       "array([[1.00000000e+00, 9.16920907e-12, 1.26915755e-11, 4.75507122e-11,\n",
       "        1.15957600e-11],\n",
       "       [8.95797521e-12, 1.00000000e+00, 7.59970416e-12, 1.03546522e-11,\n",
       "        9.38162629e-12],\n",
       "       [8.70728548e-12, 6.31657692e-12, 1.00000000e+00, 1.44076057e-11,\n",
       "        7.68379901e-11],\n",
       "       [4.67822894e-11, 1.03982052e-11, 2.45036634e-11, 1.00000000e+00,\n",
       "        1.87881625e-11],\n",
       "       [1.65612922e-11, 1.04147266e-11, 6.16977917e-11, 2.81626093e-11,\n",
       "        1.00000000e+00]])"
      ]
     },
     "execution_count": 14,
     "metadata": {},
     "output_type": "execute_result"
    }
   ],
   "source": [
    "P.value"
   ]
  },
  {
   "cell_type": "markdown",
   "id": "b4644758",
   "metadata": {},
   "source": [
    "Visualise this"
   ]
  },
  {
   "cell_type": "code",
   "execution_count": 15,
   "id": "95ef22b7",
   "metadata": {},
   "outputs": [],
   "source": [
    "beg_x,beg_y= zip(*beg_pos)\n",
    "end_x,end_y= zip(*end_pos)"
   ]
  },
  {
   "cell_type": "code",
   "execution_count": 16,
   "id": "b8ef327f",
   "metadata": {},
   "outputs": [
    {
     "data": {
      "image/png": "[encoded data removed]",
      "text/plain": [
       "<Figure size 432x288 with 1 Axes>"
      ]
     },
     "metadata": {
      "needs_background": "light"
     },
     "output_type": "display_data"
    }
   ],
   "source": [
    "fig,ax=plt.subplots()\n",
    "\n",
    "ax.set_xlim([0,sys.grid[0]])\n",
    "ax.set_ylim([0,sys.grid[1]])\n",
    "ax.scatter(beg_x,beg_y,color='blue',s=20)\n",
    "ax.scatter(end_x,end_y,color='red',s=20)\n",
    "for i,pos in enumerate(beg_pos):\n",
    "    ax.annotate(i,(pos[0],pos[1]),size=15)\n",
    "for i,pos in enumerate(end_pos):\n",
    "    ax.annotate(i,(pos[0],pos[1]),size=15)\n",
    "    \n",
    "    \n",
    "for i in range(n):\n",
    "    for j in range(n):\n",
    "        if P.value[i,j]>0.1:#so there is a non-neglegible transport between the two\n",
    "            xvals=[beg_x[i],end_x[j]]\n",
    "            yvals=[beg_y[i],end_y[j]]\n",
    "            thickness=1.8*(P.value[i,j]/a[i])+0.2 #scaled by what fraction of the total transport from i it is\n",
    "            ax.plot(xvals,yvals,linewidth=thickness,color='black')"
   ]
  },
  {
   "cell_type": "markdown",
   "id": "ebb37b6d",
   "metadata": {},
   "source": [
    "Let's also try in higher dimension"
   ]
  },
  {
   "cell_type": "code",
   "execution_count": 17,
   "id": "4efc30fc",
   "metadata": {},
   "outputs": [],
   "source": [
    "sys=particle_system([100,100,100])\n",
    "n=5\n",
    "sys.insert_particles(n,lambda x,y : brownian_update(x,y,1),lambda x,y : 1)\n",
    "\n",
    "dt=50\n",
    "beg_pos=sys.positions()\n",
    "beg_int=sys.intensities()\n",
    "\n",
    "sys.evolve(dt)"
   ]
  },
  {
   "cell_type": "code",
   "execution_count": 25,
   "id": "d21c235f",
   "metadata": {},
   "outputs": [
    {
     "name": "stdout",
     "output_type": "stream",
     "text": [
      "[[36.24771109591692, 72.69468541054735, 61.93452707049257], [86.57079774794211, 72.62107984752349, 66.49022558501504], [72.17205280208428, 25.271230597250263, 15.375779397794584], [87.17598357834804, 64.31266256489512, 27.45431292171998], [53.85939970191967, 93.72057392795662, 32.2118074594518]]\n"
     ]
    }
   ],
   "source": [
    "print(sys.positions())"
   ]
  },
  {
   "cell_type": "code",
   "execution_count": 26,
   "id": "197319b1",
   "metadata": {},
   "outputs": [],
   "source": [
    "sys.evolve(dt)"
   ]
  },
  {
   "cell_type": "code",
   "execution_count": 27,
   "id": "cffbf765",
   "metadata": {},
   "outputs": [
    {
     "name": "stdout",
     "output_type": "stream",
     "text": [
      "[[47.41726557427453, 63.56343820157555, 64.29850908261396], [82.49524032456263, 70.57530951325593, 48.93407008621144], [71.18136524605373, 22.840849476008465, 20.338557118445205], [92.31053958564986, 47.65289132598014, 17.050413894689186], [46.948764696223634, 84.70086033718484, 15.058576376607505]]\n"
     ]
    }
   ],
   "source": [
    "print(sys.positions())"
   ]
  },
  {
   "cell_type": "markdown",
   "id": "f0b85233",
   "metadata": {},
   "source": [
    "Let's take care of the changes in intensity and creation/disappearance of particles. Let's say that a particle disappears if its intensity drops to 0"
   ]
  },
  {
   "cell_type": "code",
   "execution_count": 9,
   "id": "0bd71572",
   "metadata": {},
   "outputs": [],
   "source": [
    "def placeholder_intensity_update(part,dt,mean,variance=None,threshold=None):\n",
    "    if variance is None:\n",
    "        variance=(dt)**2\n",
    "    if threshold is None:\n",
    "        threshold=0.1*mean#if intensity drops below then it disappears\n",
    "    #print(mean,variance,part.intensity)\n",
    "    intensity_change=np.random.normal(mean-part.intensity, variance)\n",
    "    new_int=part.intensity+intensity_change\n",
    "    #print(part.intensity)\n",
    "    if new_int<threshold:\n",
    "        new_int=0\n",
    "    return new_int"
   ]
  },
  {
   "cell_type": "markdown",
   "id": "31297798",
   "metadata": {},
   "source": [
    "We also need a model for creation. Just do anything for now"
   ]
  },
  {
   "cell_type": "code",
   "execution_count": 80,
   "id": "f590627f",
   "metadata": {},
   "outputs": [],
   "source": [
    "def poisson_creation(self,dt,c=1):\n",
    "    n=np.random.poisson(dt*c)\n",
    "    self.insert_particles(n,lambda x,y : brownian_update(x,y,1),lambda x,y : placeholder_intensity_update(x,y,1000,10), intensity=[1000]*n)"
   ]
  },
  {
   "cell_type": "code",
   "execution_count": 81,
   "id": "1f5e996d",
   "metadata": {},
   "outputs": [
    {
     "name": "stdout",
     "output_type": "stream",
     "text": [
      "before: \n",
      "[1000, 1000, 1000, 1000, 1000]\n",
      "after: \n",
      "[2547.122341456321, 1000, 1000]\n"
     ]
    }
   ],
   "source": [
    "sys=particle_system([100,100,100],lambda x,y : poisson_creation(x,y,0.01))\n",
    "n=5\n",
    "sys.insert_particles(n,lambda x,y : brownian_update(x,y,1),lambda x,y : placeholder_intensity_update(x,y,1000),intensity=[1000]*n)\n",
    "\n",
    "dt=50\n",
    "beg_pos=sys.positions()\n",
    "beg_int=sys.intensities()\n",
    "\n",
    "sys.evolve(dt)"
   ]
  },
  {
   "cell_type": "code",
   "execution_count": 92,
   "id": "28c964d5",
   "metadata": {},
   "outputs": [
    {
     "name": "stdout",
     "output_type": "stream",
     "text": [
      "before: \n",
      "[980.4352645883274, 1003.6466155796928, 992.7807929327205, 993.4353624776597, 992.1345487067819, 992.4468747590238, 996.754555348683, 998.2871170623733, 1005.1777927430617, 997.8971059351097, 1013.3830752246395, 1003.071460156587]\n",
      "after: \n",
      "[1016.9853421784871, 1021.9984932632858, 1022.7694418925641, 991.619977871194, 1009.5342259427441, 1005.5217160364548, 1001.3951775537635, 1006.8702646010662, 999.3043071213568, 996.7218135990167, 1006.3242400337169, 1004.6481857597232]\n"
     ]
    }
   ],
   "source": [
    "sys.evolve(dt)"
   ]
  },
  {
   "cell_type": "code",
   "execution_count": 35,
   "id": "837bc499",
   "metadata": {},
   "outputs": [
    {
     "data": {
      "text/plain": [
       "[1, 1, 1, 1000]"
      ]
     },
     "execution_count": 35,
     "metadata": {},
     "output_type": "execute_result"
    }
   ],
   "source": [
    "sys.intensities()"
   ]
  },
  {
   "cell_type": "code",
   "execution_count": null,
   "id": "c803f57d",
   "metadata": {},
   "outputs": [],
   "source": []
  }
 ],
 "metadata": {
  "kernelspec": {
   "display_name": "Python 3",
   "language": "python",
   "name": "python3"
  },
  "language_info": {
   "codemirror_mode": {
    "name": "ipython",
    "version": 3
   },
   "file_extension": ".py",
   "mimetype": "text/x-python",
   "name": "python",
   "nbconvert_exporter": "python",
   "pygments_lexer": "ipython3",
   "version": "3.8.8"
  }
 },
 "nbformat": 4,
 "nbformat_minor": 5
}
