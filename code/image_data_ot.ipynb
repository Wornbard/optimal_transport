{
 "cells": [
  {
   "cell_type": "markdown",
   "id": "dd5d7c5e",
   "metadata": {},
   "source": [
    "Apply OT directly to the image and see what happens"
   ]
  },
  {
   "cell_type": "code",
   "execution_count": 4,
   "id": "67902035",
   "metadata": {},
   "outputs": [],
   "source": [
    "from motion_utils import *\n",
    "from ot_utils import *\n",
    "from matplotlib import pyplot as plt\n",
    "\n",
    "from skimage import io\n",
    "\n",
    "import numpy as np"
   ]
  },
  {
   "cell_type": "code",
   "execution_count": 11,
   "id": "a58c52bc",
   "metadata": {},
   "outputs": [],
   "source": [
    "path='../data/r2_SuH_exp_50_ext_20_1-Crop1-2000.tif'#relative path only it seems\n",
    "images=io.imread(path)\n",
    "\n",
    "si=images[30]\n",
    "ei=images[31]\n",
    "\n",
    "a=si.reshape((si.size,1))\n",
    "b=ei.reshape((ei.size,1))"
   ]
  },
  {
   "cell_type": "code",
   "execution_count": 12,
   "id": "33d8dce9",
   "metadata": {},
   "outputs": [],
   "source": [
    "def matrix_L2_cost(M,N):\n",
    "    C=np.empty((M.size,N.size))\n",
    "    for i,row_M in enumerate(M):\n",
    "        for j,entry_M in enumerate(row_M):\n",
    "            for k, row_N in enumerate(N):\n",
    "                for l, entry_N in enumerate(row_N):\n",
    "                    C[i*M.shape[1]+j][k*N.shape[1]+l]=(i-k)**2+(j-l)**2"
   ]
  },
  {
   "cell_type": "code",
   "execution_count": 13,
   "id": "49a9c99b",
   "metadata": {},
   "outputs": [
    {
     "ename": "MemoryError",
     "evalue": "Unable to allocate 129. GiB for an array with shape (131744, 131744) and data type float64",
     "output_type": "error",
     "traceback": [
      "\u001b[1;31m---------------------------------------------------------------------------\u001b[0m",
      "\u001b[1;31mMemoryError\u001b[0m                               Traceback (most recent call last)",
      "\u001b[1;32m<ipython-input-13-d2368c018791>\u001b[0m in \u001b[0;36m<module>\u001b[1;34m\u001b[0m\n\u001b[1;32m----> 1\u001b[1;33m \u001b[0mC\u001b[0m\u001b[1;33m=\u001b[0m\u001b[0mmatrix_L2_cost\u001b[0m\u001b[1;33m(\u001b[0m\u001b[0msi\u001b[0m\u001b[1;33m,\u001b[0m\u001b[0mei\u001b[0m\u001b[1;33m)\u001b[0m\u001b[1;33m\u001b[0m\u001b[1;33m\u001b[0m\u001b[0m\n\u001b[0m",
      "\u001b[1;32m<ipython-input-12-25bc69ae000b>\u001b[0m in \u001b[0;36mmatrix_L2_cost\u001b[1;34m(M, N)\u001b[0m\n\u001b[0;32m      1\u001b[0m \u001b[1;32mdef\u001b[0m \u001b[0mmatrix_L2_cost\u001b[0m\u001b[1;33m(\u001b[0m\u001b[0mM\u001b[0m\u001b[1;33m,\u001b[0m\u001b[0mN\u001b[0m\u001b[1;33m)\u001b[0m\u001b[1;33m:\u001b[0m\u001b[1;33m\u001b[0m\u001b[1;33m\u001b[0m\u001b[0m\n\u001b[1;32m----> 2\u001b[1;33m     \u001b[0mC\u001b[0m\u001b[1;33m=\u001b[0m\u001b[0mnp\u001b[0m\u001b[1;33m.\u001b[0m\u001b[0mempty\u001b[0m\u001b[1;33m(\u001b[0m\u001b[1;33m(\u001b[0m\u001b[0mM\u001b[0m\u001b[1;33m.\u001b[0m\u001b[0msize\u001b[0m\u001b[1;33m,\u001b[0m\u001b[0mN\u001b[0m\u001b[1;33m.\u001b[0m\u001b[0msize\u001b[0m\u001b[1;33m)\u001b[0m\u001b[1;33m)\u001b[0m\u001b[1;33m\u001b[0m\u001b[1;33m\u001b[0m\u001b[0m\n\u001b[0m\u001b[0;32m      3\u001b[0m     \u001b[1;32mfor\u001b[0m \u001b[0mi\u001b[0m\u001b[1;33m,\u001b[0m\u001b[0mrow_M\u001b[0m \u001b[1;32min\u001b[0m \u001b[0menumerate\u001b[0m\u001b[1;33m(\u001b[0m\u001b[0mM\u001b[0m\u001b[1;33m)\u001b[0m\u001b[1;33m:\u001b[0m\u001b[1;33m\u001b[0m\u001b[1;33m\u001b[0m\u001b[0m\n\u001b[0;32m      4\u001b[0m         \u001b[1;32mfor\u001b[0m \u001b[0mj\u001b[0m\u001b[1;33m,\u001b[0m\u001b[0mentry_M\u001b[0m \u001b[1;32min\u001b[0m \u001b[0menumerate\u001b[0m\u001b[1;33m(\u001b[0m\u001b[0mrow_M\u001b[0m\u001b[1;33m)\u001b[0m\u001b[1;33m:\u001b[0m\u001b[1;33m\u001b[0m\u001b[1;33m\u001b[0m\u001b[0m\n\u001b[0;32m      5\u001b[0m             \u001b[1;32mfor\u001b[0m \u001b[0mk\u001b[0m\u001b[1;33m,\u001b[0m \u001b[0mrow_N\u001b[0m \u001b[1;32min\u001b[0m \u001b[0menumerate\u001b[0m\u001b[1;33m(\u001b[0m\u001b[0mN\u001b[0m\u001b[1;33m)\u001b[0m\u001b[1;33m:\u001b[0m\u001b[1;33m\u001b[0m\u001b[1;33m\u001b[0m\u001b[0m\n",
      "\u001b[1;31mMemoryError\u001b[0m: Unable to allocate 129. GiB for an array with shape (131744, 131744) and data type float64"
     ]
    }
   ],
   "source": [
    "C=matrix_L2_cost(si,ei)"
   ]
  },
  {
   "cell_type": "markdown",
   "id": "28555f3a",
   "metadata": {},
   "source": [
    "I didn't think this through. Obviously doing it using the previous methods is just too computationally expensive"
   ]
  },
  {
   "cell_type": "code",
   "execution_count": null,
   "id": "9b67d9ca",
   "metadata": {},
   "outputs": [],
   "source": []
  }
 ],
 "metadata": {
  "kernelspec": {
   "display_name": "Python 3",
   "language": "python",
   "name": "python3"
  },
  "language_info": {
   "codemirror_mode": {
    "name": "ipython",
    "version": 3
   },
   "file_extension": ".py",
   "mimetype": "text/x-python",
   "name": "python",
   "nbconvert_exporter": "python",
   "pygments_lexer": "ipython3",
   "version": "3.8.8"
  }
 },
 "nbformat": 4,
 "nbformat_minor": 5
}
