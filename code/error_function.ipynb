{
 "cells": [
  {
   "cell_type": "markdown",
   "id": "d5ab9843",
   "metadata": {},
   "source": [
    "We need to come up with a way of measuring how well the tracks are recovered.\n",
    "1 : want the total number of tracks to be roughly similar\n",
    "2 : the variance of ID's within a single track should be as small as possible\n",
    "\n",
    "Maybe let's 1st try sth that only penalizes these two and see how it goes."
   ]
  },
  {
   "cell_type": "code",
   "execution_count": 1,
   "id": "682dafed",
   "metadata": {},
   "outputs": [],
   "source": [
    "def tracking_error(tracks,truth):#computed for a single run, tracks is a list of dataframes, truth is a dataframe\n",
    "    n_tracks=truth['id'].nunique()"
   ]
  },
  {
   "cell_type": "code",
   "execution_count": null,
   "id": "230d3514",
   "metadata": {},
   "outputs": [],
   "source": []
  }
 ],
 "metadata": {
  "kernelspec": {
   "display_name": "Python 3",
   "language": "python",
   "name": "python3"
  },
  "language_info": {
   "codemirror_mode": {
    "name": "ipython",
    "version": 3
   },
   "file_extension": ".py",
   "mimetype": "text/x-python",
   "name": "python",
   "nbconvert_exporter": "python",
   "pygments_lexer": "ipython3",
   "version": "3.8.8"
  }
 },
 "nbformat": 4,
 "nbformat_minor": 5
}
